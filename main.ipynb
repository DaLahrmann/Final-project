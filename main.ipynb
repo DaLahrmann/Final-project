{
 "cells": [
  {
   "cell_type": "code",
   "execution_count": 2,
   "metadata": {},
   "outputs": [],
   "source": [
    "import pandas as pd"
   ]
  },
  {
   "cell_type": "markdown",
   "metadata": {},
   "source": [
    "First of all a soduko grid has to be defined with rows, columns and boxes\n"
   ]
  },
  {
   "cell_type": "code",
   "execution_count": 11,
   "metadata": {},
   "outputs": [],
   "source": [
    "r=[i//9 for i in range(81)]\n",
    "c=[i%9 for i in range(81)]\n",
    "\n",
    "grid=pd.DataFrame()\n",
    "grid['rw']=r\n",
    "grid['cl']=c\n",
    "grid['box']=3*(grid.rw//3)+grid.cl//3\n",
    "grid.to_csv('soduko_grid.csv')"
   ]
  },
  {
   "cell_type": "markdown",
   "metadata": {},
   "source": [
    "this test puzzle is a copy from https://www.codewars.com/kata/5296bc77afba8baa690002d7"
   ]
  },
  {
   "cell_type": "code",
   "execution_count": null,
   "metadata": {},
   "outputs": [],
   "source": [
    "puzzle = [5,3,0,0,7,0,0,0,0,\n",
    "          6,0,0,1,9,5,0,0,0,\n",
    "          0,9,8,0,0,0,0,6,0,\n",
    "          8,0,0,0,6,0,0,0,3,\n",
    "          4,0,0,8,0,3,0,0,1,\n",
    "          7,0,0,0,2,0,0,0,6,\n",
    "          0,6,0,0,0,0,2,8,0,\n",
    "          0,0,0,4,1,9,0,0,5,\n",
    "          0,0,0,0,8,0,0,7,9]\n",
    "\n",
    "\n"
   ]
  }
 ],
 "metadata": {
  "interpreter": {
   "hash": "e956ae00da0b923c53eac0ba781c2d63e37e4818bc4e157197045199dda01c2a"
  },
  "kernelspec": {
   "display_name": "Python 3.9.7 ('base')",
   "language": "python",
   "name": "python3"
  },
  "language_info": {
   "codemirror_mode": {
    "name": "ipython",
    "version": 3
   },
   "file_extension": ".py",
   "mimetype": "text/x-python",
   "name": "python",
   "nbconvert_exporter": "python",
   "pygments_lexer": "ipython3",
   "version": "3.9.7"
  },
  "orig_nbformat": 4
 },
 "nbformat": 4,
 "nbformat_minor": 2
}
